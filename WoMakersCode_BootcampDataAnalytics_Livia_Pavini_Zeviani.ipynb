{
  "nbformat": 4,
  "nbformat_minor": 0,
  "metadata": {
    "colab": {
      "provenance": [],
      "include_colab_link": true
    },
    "kernelspec": {
      "name": "python3",
      "display_name": "Python 3"
    },
    "language_info": {
      "name": "python"
    }
  },
  "cells": [
    {
      "cell_type": "markdown",
      "metadata": {
        "id": "view-in-github",
        "colab_type": "text"
      },
      "source": [
        "<a href=\"https://colab.research.google.com/github/liviazeviani/WoMakersCode-DataAnalytics/blob/main/WoMakersCode_BootcampDataAnalytics_Livia_Pavini_Zeviani.ipynb\" target=\"_parent\"><img src=\"https://colab.research.google.com/assets/colab-badge.svg\" alt=\"Open In Colab\"/></a>"
      ]
    },
    {
      "cell_type": "markdown",
      "source": [
        "1 ) Para determinar se um candidato está qualificado para uma vaga de emprego, são aplicados dois critérios:\n",
        "\n",
        "a) O candidato deve ter uma presença igual ou superior a 60% em um treinamento obrigatório.\n",
        "\n",
        "b) O candidato deve ter uma média de desempenho igual ou superior a 7 em uma série de testes.\n",
        "\n",
        "Para auxiliar na avaliação dos candidatos, você deve criar uma função que recebe uma lista de dicionários contendo o nome do candidato, a média de desempenho e a quantidade de horas de ausência do treinamento. Com esses dados, a função deve calcular se o candidato está qualificado ou não. A presença do candidato é calculada considerando que o treinamento teve um total de 60 horas e utilizando a fórmula:\n",
        "\n",
        "(Total horas - número de faltas)/Total horas * 100;\n"
      ],
      "metadata": {
        "id": "3UpM724I5C19"
      }
    },
    {
      "cell_type": "code",
      "source": [
        "def avalia_candidato():\n",
        "  avaliação = list()\n",
        "  candidato = dict()\n",
        "  candidato['nome'] = str(input('Nome do candidato: '))\n",
        "  candidato['média'] = int(input('Média do candidato: '))\n",
        "  candidato['faltas'] = int(input('Faltas do candidato: '))\n",
        "  presenca = int((60 - candidato['faltas'])/60 * 100)\n",
        "\n",
        "  if candidato['média'] >= 7 and presenca >=60:\n",
        "      print(f'Candidatx {candidato[\"nome\"]} está qualificado(a)')\n",
        "  else:\n",
        "    print(f'Candidatx {candidato[\"nome\"]} não está qualificado(a)')\n"
      ],
      "metadata": {
        "id": "IaSNvpo5LQn9"
      },
      "execution_count": null,
      "outputs": []
    },
    {
      "cell_type": "code",
      "source": [
        "avalia_candidato()"
      ],
      "metadata": {
        "colab": {
          "base_uri": "https://localhost:8080/"
        },
        "id": "CgTyRzglsqY6",
        "outputId": "993c40fa-d057-4e61-ea7a-09b9d3c941b0"
      },
      "execution_count": null,
      "outputs": [
        {
          "output_type": "stream",
          "name": "stdout",
          "text": [
            "Nome do candidato: livia\n",
            "Média do candidato: 7\n",
            "Faltas do candidato: 21\n",
            "Candidatx livia está qualificado(a)\n"
          ]
        }
      ]
    },
    {
      "cell_type": "markdown",
      "source": [
        "2) Crie uma função que recebe uma palavra (string), separa todos os caracteres em uma lista, retorna esta lista e quantidade de letras."
      ],
      "metadata": {
        "id": "fKKdyWo55e8w"
      }
    },
    {
      "cell_type": "code",
      "source": [
        "def separa_palavra():\n",
        "  palavra = input('Digite uma palavra: ')\n",
        "  print(\"Essa palavra forma a lista: \", list(palavra), \"e essa lista tem\", len(palavra), \"caracteres\")\n"
      ],
      "metadata": {
        "id": "Qq7QoqubvjbG"
      },
      "execution_count": null,
      "outputs": []
    },
    {
      "cell_type": "code",
      "source": [
        "separa_palavra()"
      ],
      "metadata": {
        "colab": {
          "base_uri": "https://localhost:8080/"
        },
        "id": "5A7kPVD1Kzh9",
        "outputId": "af4ee5e7-2ead-4406-83e7-48a3333f6334"
      },
      "execution_count": null,
      "outputs": [
        {
          "output_type": "stream",
          "name": "stdout",
          "text": [
            "Digite uma palavra: pedro\n",
            "Essa palavra forma a lista:  ['p', 'e', 'd', 'r', 'o'] e essa lista tem 5 caracteres\n"
          ]
        }
      ]
    },
    {
      "cell_type": "markdown",
      "source": [
        "3) Crie um programa que leia quanto dinheiro uma pessoa tem na carteira, e calcule quanto poderia comprar de cada moeda estrangeira. Considere a tabela de conversão abaixo:\n",
        "\n",
        "Valor convertido em real:\n",
        "*   Dólar Americano: 4,91\n",
        "*   Peso Argentino: 0,02\n",
        "*   Dólar Australiano: 3,18\n",
        "*   Dólar Canadense: 3,64\n",
        "*   Franco Suiço: 0,42\n",
        "*   Euro:  5,36\n",
        "*   Libra esterlina: 6,21\n",
        "\n",
        "\n",
        "\n",
        "\n",
        "\n",
        "\n",
        "\n"
      ],
      "metadata": {
        "id": "EEXxWdjH5sju"
      }
    },
    {
      "cell_type": "code",
      "source": [
        "dinheiro_real = float(input('Quanto você tem na carteira? R$'))\n",
        "dolar_americano = dinheiro_real/4.91\n",
        "peso_argentino = dinheiro_real/0.02\n",
        "dolar_australiano = dinheiro_real/3.18\n",
        "dolar_canadense = dinheiro_real/3.64\n",
        "franco_suico = dinheiro_real/0.42\n",
        "euro = dinheiro_real/5.36\n",
        "libra_esterlina = dinheiro_real/6.21\n",
        "\n",
        "\n",
        "print(\"Com {:.2f} você pode comprar: {:.2f} dólares americanos, {:.2f} pesos, {:.2f} dólares australianos, {:.2f} dólares canadenses, {:.2f} francos,{:.2f} euros e {:.2f} libras\".format(dinheiro_real, dolar_americano, peso_argentino, dolar_australiano, dolar_canadense, franco_suico, euro, libra_esterlina) )"
      ],
      "metadata": {
        "id": "BFil1HpZvbFg",
        "colab": {
          "base_uri": "https://localhost:8080/"
        },
        "outputId": "e7262c83-0612-45dc-b2b0-42172e55e320"
      },
      "execution_count": null,
      "outputs": [
        {
          "output_type": "stream",
          "name": "stdout",
          "text": [
            "Quanto você tem na carteira? R$600\n",
            "Com 600.00 você pode comprar: 122.20 dólares americanos, 30000.00 pesos, 188.68 dólares australianos, 164.84 dólares canadenses, 1428.57 francos,111.94 euros e 96.62 libras\n"
          ]
        }
      ]
    },
    {
      "cell_type": "markdown",
      "source": [
        "\n",
        "4) O chefe decidiu premiar os melhores funcionários de sua empresa com um brinde. Para isso ela vai entregar um brinde para todos os funcionários que tiverem uma performance superior a média da equipe.\n",
        "\n",
        "Elabore uma função que recebe uma lista de nome em formato de dict (dicionário) com nome do funcionário e a média do funcionário (Valor de 0 a 10). Esta função deve calcular a média da equipe, identificar quais funcionários tem média igual ou superior a média da equipe e retornar uma lista com o nome dos funcionários que possuem média igual ou superior a média da equipe. A ordem dos nomes da lista de retorno deve ser em ordem decrescente."
      ],
      "metadata": {
        "id": "Tj2Ds76-6FXs"
      }
    },
    {
      "cell_type": "code",
      "source": [
        "def desempenho_funcionarios():\n",
        "  func = dict()\n",
        "  lista = list()\n",
        "  #supondo que a equipe tenha 3 funcionários\n",
        "  for c in range(0,3):\n",
        "    func['nome'] = str(input('Nome do funcionário: '))\n",
        "    func['média'] = int(input('Média do funcionário - de 0 a 10: '))\n",
        "    #media_equipe = media_1 + media_2 + media_3/3\n",
        "\n",
        "    lista.append(func.copy())\n",
        "  for func in lista:\n",
        "    for média in func.values():\n",
        "      print(média, end = \" , média: \")\n",
        "\n",
        "  print(lista)\n",
        "\n",
        "\n",
        "\n"
      ],
      "metadata": {
        "id": "poEG0mnOvgSO"
      },
      "execution_count": 8,
      "outputs": []
    },
    {
      "cell_type": "code",
      "source": [
        "desempenho_funcionarios()"
      ],
      "metadata": {
        "colab": {
          "base_uri": "https://localhost:8080/"
        },
        "id": "8zl5E590emMU",
        "outputId": "c6481d27-67e0-4bf6-c0e8-1f89a43ec1b9"
      },
      "execution_count": 9,
      "outputs": [
        {
          "output_type": "stream",
          "name": "stdout",
          "text": [
            "Nome do funcionário: livia\n",
            "Média do funcionário - de 0 a 10: 9\n",
            "Nome do funcionário: lucas\n",
            "Média do funcionário - de 0 a 10: 9\n",
            "Nome do funcionário: pedro\n",
            "Média do funcionário - de 0 a 10: 9\n",
            "livia , média: 9 , média: lucas , média: 9 , média: pedro , média: 9 , média: [{'nome': 'livia', 'média': 9}, {'nome': 'lucas', 'média': 9}, {'nome': 'pedro', 'média': 9}]\n"
          ]
        }
      ]
    },
    {
      "cell_type": "markdown",
      "source": [
        "5) Na variável países_ano, temos uma lista de listas, em que cada elemento é uma lista de dois elementos, em que o primeiro é o nome de um país e o segundo é o ano em que a nação foi fundada."
      ],
      "metadata": {
        "id": "pVSP5n1T_ZWQ"
      }
    },
    {
      "cell_type": "code",
      "source": [
        "lista_paises = [[\"Brasil\", \"1500\"],[\"Mexico\",\"1519\"], [\"Inglaterra\", \"927\"], [\"Espanha\",\"1978\"], [\"Escocia\", \"843\"]]"
      ],
      "metadata": {
        "id": "zRywrNff01he"
      },
      "execution_count": null,
      "outputs": []
    },
    {
      "cell_type": "markdown",
      "source": [
        "Você deseja criar uma nova lista de listas a partir do exemplo (lista_paises), em que cada elemento é uma lista de dois elementos, sendo o primeiro o nome do país (como é na lista original) e o segundo é o número de anos desde a fundação do país (considere que o ano atual é 2023)."
      ],
      "metadata": {
        "id": "OpU-UWXC01Ca"
      }
    },
    {
      "cell_type": "code",
      "source": [
        "lista_paises = [[\"Brasil\", \"1500\"],[\"Mexico\",\"1519\"], [\"Inglaterra\", \"927\"], [\"Espanha\",\"1978\"], [\"Escocia\", \"843\"]]\n",
        "nova_lista = []\n",
        "ano_atual = 2023\n",
        "lista_paises[0][1]\n",
        ""
      ],
      "metadata": {
        "colab": {
          "base_uri": "https://localhost:8080/",
          "height": 35
        },
        "id": "xy3chLk10VFM",
        "outputId": "c70b5dcb-c14c-4104-d870-3df0d32c6495"
      },
      "execution_count": 22,
      "outputs": [
        {
          "output_type": "execute_result",
          "data": {
            "text/plain": [
              "'1500'"
            ],
            "application/vnd.google.colaboratory.intrinsic+json": {
              "type": "string"
            }
          },
          "metadata": {},
          "execution_count": 22
        }
      ]
    },
    {
      "cell_type": "code",
      "source": [],
      "metadata": {
        "colab": {
          "base_uri": "https://localhost:8080/",
          "height": 176
        },
        "id": "8uMatlyVhLt9",
        "outputId": "3540f258-4ad0-4d52-97fd-3c42020c5791"
      },
      "execution_count": 13,
      "outputs": [
        {
          "output_type": "error",
          "ename": "NameError",
          "evalue": "ignored",
          "traceback": [
            "\u001b[0;31m---------------------------------------------------------------------------\u001b[0m",
            "\u001b[0;31mNameError\u001b[0m                                 Traceback (most recent call last)",
            "\u001b[0;32m<ipython-input-13-a4ee3f6f27f5>\u001b[0m in \u001b[0;36m<cell line: 1>\u001b[0;34m()\u001b[0m\n\u001b[0;32m----> 1\u001b[0;31m \u001b[0mprint\u001b[0m\u001b[0;34m(\u001b[0m\u001b[0mbrasil\u001b[0m\u001b[0;34m)\u001b[0m\u001b[0;34m\u001b[0m\u001b[0;34m\u001b[0m\u001b[0m\n\u001b[0m",
            "\u001b[0;31mNameError\u001b[0m: name 'brasil' is not defined"
          ]
        }
      ]
    },
    {
      "cell_type": "markdown",
      "source": [
        "6) Um jogador de um jogo de vídeo game deseja subir de nível em seu personagem ao atingir 50 inimigos derrotados. Enquanto esse número não é alcançado, uma mensagem indicando quantos inimigos ainda faltam é exibida na tela.\n"
      ],
      "metadata": {
        "id": "_qb748YiCzh-"
      }
    },
    {
      "cell_type": "code",
      "source": [
        "inimigos_derrotados = 0\n",
        "nivel = 0\n",
        "\n",
        "while (inimigos_derrotados < 50):\n",
        "\n",
        "    print(f\"Faltam {50 - inimigos_derrotados} inimigos para você mudar de nível!\")\n",
        "\n",
        "    inimigos_derrotados += 1\n",
        "\n",
        "print(\"\\nVocê atingiu o próximo nível!\")\n",
        "nivel = 1"
      ],
      "metadata": {
        "id": "wooL40fJi_gj",
        "colab": {
          "base_uri": "https://localhost:8080/"
        },
        "outputId": "4667028b-df83-4f69-81b0-f3ff95685ef6"
      },
      "execution_count": null,
      "outputs": [
        {
          "output_type": "stream",
          "name": "stdout",
          "text": [
            "Faltam 50 inimigos para você mudar de nível!\n",
            "Faltam 49 inimigos para você mudar de nível!\n",
            "Faltam 48 inimigos para você mudar de nível!\n",
            "Faltam 47 inimigos para você mudar de nível!\n",
            "Faltam 46 inimigos para você mudar de nível!\n",
            "Faltam 45 inimigos para você mudar de nível!\n",
            "Faltam 44 inimigos para você mudar de nível!\n",
            "Faltam 43 inimigos para você mudar de nível!\n",
            "Faltam 42 inimigos para você mudar de nível!\n",
            "Faltam 41 inimigos para você mudar de nível!\n",
            "Faltam 40 inimigos para você mudar de nível!\n",
            "Faltam 39 inimigos para você mudar de nível!\n",
            "Faltam 38 inimigos para você mudar de nível!\n",
            "Faltam 37 inimigos para você mudar de nível!\n",
            "Faltam 36 inimigos para você mudar de nível!\n",
            "Faltam 35 inimigos para você mudar de nível!\n",
            "Faltam 34 inimigos para você mudar de nível!\n",
            "Faltam 33 inimigos para você mudar de nível!\n",
            "Faltam 32 inimigos para você mudar de nível!\n",
            "Faltam 31 inimigos para você mudar de nível!\n",
            "Faltam 30 inimigos para você mudar de nível!\n",
            "Faltam 29 inimigos para você mudar de nível!\n",
            "Faltam 28 inimigos para você mudar de nível!\n",
            "Faltam 27 inimigos para você mudar de nível!\n",
            "Faltam 26 inimigos para você mudar de nível!\n",
            "Faltam 25 inimigos para você mudar de nível!\n",
            "Faltam 24 inimigos para você mudar de nível!\n",
            "Faltam 23 inimigos para você mudar de nível!\n",
            "Faltam 22 inimigos para você mudar de nível!\n",
            "Faltam 21 inimigos para você mudar de nível!\n",
            "Faltam 20 inimigos para você mudar de nível!\n",
            "Faltam 19 inimigos para você mudar de nível!\n",
            "Faltam 18 inimigos para você mudar de nível!\n",
            "Faltam 17 inimigos para você mudar de nível!\n",
            "Faltam 16 inimigos para você mudar de nível!\n",
            "Faltam 15 inimigos para você mudar de nível!\n",
            "Faltam 14 inimigos para você mudar de nível!\n",
            "Faltam 13 inimigos para você mudar de nível!\n",
            "Faltam 12 inimigos para você mudar de nível!\n",
            "Faltam 11 inimigos para você mudar de nível!\n",
            "Faltam 10 inimigos para você mudar de nível!\n",
            "Faltam 9 inimigos para você mudar de nível!\n",
            "Faltam 8 inimigos para você mudar de nível!\n",
            "Faltam 7 inimigos para você mudar de nível!\n",
            "Faltam 6 inimigos para você mudar de nível!\n",
            "Faltam 5 inimigos para você mudar de nível!\n",
            "Faltam 4 inimigos para você mudar de nível!\n",
            "Faltam 3 inimigos para você mudar de nível!\n",
            "Faltam 2 inimigos para você mudar de nível!\n",
            "Faltam 1 inimigos para você mudar de nível!\n",
            "\n",
            "Você atingiu o próximo nível!\n"
          ]
        }
      ]
    }
  ]
}